{
  "nbformat": 4,
  "nbformat_minor": 0,
  "metadata": {
    "colab": {
      "provenance": []
    },
    "kernelspec": {
      "name": "python3",
      "display_name": "Python 3"
    },
    "language_info": {
      "name": "python"
    },
    "accelerator": "GPU",
    "gpuClass": "standard"
  },
  "cells": [
    {
      "cell_type": "code",
      "execution_count": 1,
      "metadata": {
        "id": "-FspO_6TvnsJ",
        "colab": {
          "base_uri": "https://localhost:8080/"
        },
        "outputId": "8ce7774e-3072-467e-b002-3a68f4010dea"
      },
      "outputs": [
        {
          "output_type": "stream",
          "name": "stdout",
          "text": [
            "Mounted at /content/drive\n"
          ]
        }
      ],
      "source": [
        "from google.colab import drive\n",
        "drive.mount('/content/drive')"
      ]
    },
    {
      "cell_type": "code",
      "source": [
        "import cv2 as cv\n",
        "savepatch2 = \"/content/drive/MyDrive/yolov7/plate_img.png\"\n",
        "save_img = cv.imread(savepatch2,0)"
      ],
      "metadata": {
        "id": "PhIJC55CU0WA"
      },
      "execution_count": 3,
      "outputs": []
    },
    {
      "cell_type": "code",
      "source": [
        "class_names = subdirs = ['0', '1', '2', '3', '4', '5', '6', '7', '8', '9', 'a', 'b', 'ch', 'd', 'ein', 'f', 'g', 'ghaf', 'ghein', 'h2', 'hj', 'j', 'k', 'kh', 'l', 'm', 'n', 'p', 'r', 's', 'sad', 'sh', 't', 'ta', 'th', 'v', 'y', 'z', 'za', 'zad', 'zal', 'zh']\n",
        "labels_nums = [i for i in range(0,len(class_names))]"
      ],
      "metadata": {
        "id": "vTFHxLXxV9Av"
      },
      "execution_count": 4,
      "outputs": []
    },
    {
      "cell_type": "code",
      "source": [
        "import tensorflow as tf\n",
        "import os\n",
        "import random\n",
        "import numpy as np\n",
        "import cv2 as cv\n",
        "import matplotlib.pyplot as plt\n",
        "from math import sqrt, atan, degrees"
      ],
      "metadata": {
        "id": "hJFRF447nwlY"
      },
      "execution_count": 5,
      "outputs": []
    },
    {
      "cell_type": "code",
      "source": [
        "def find_longest_line(save_img):\n",
        "    kernel_size = 3\n",
        "    blur_gray = cv.GaussianBlur(save_img, (kernel_size, kernel_size), 0)\n",
        "\n",
        "    low_threshold = 150\n",
        "    high_threshold = 200\n",
        "\n",
        "    edges = cv.Canny(blur_gray, low_threshold, high_threshold)\n",
        "\n",
        "    rho = 1  # distance resolution in pixels of the Hough grid\n",
        "    theta = np.pi / 180  # angular resolution in radians of the Hough grid\n",
        "    threshold = 15  # minimum number of votes (intersections in Hough grid cell)\n",
        "    min_line_length = 50  # minimum number of pixels making up a line\n",
        "    max_line_gap = 5  # maximum gap in pixels between connectable line segments\n",
        "    line_image = np.copy(save_img) * 0  # creating a blank to draw lines on\n",
        "\n",
        "    # Run Hough on edge detected image\n",
        "    # Output \"lines\" is an array containing endpoints of detected line segments\n",
        "    lines = cv.HoughLinesP(edges, rho, theta, threshold, np.array([]),\n",
        "                        min_line_length, max_line_gap)\n",
        "\n",
        "    lls = []\n",
        "    for indx, line in enumerate(lines):\n",
        "        for x1,y1,x2,y2 in line:\n",
        "            cv.line(line_image,(x1,y1),(x2,y2),(255,0,0),5)\n",
        "            line_length = sqrt((x2-x1)**2 + (y2-y1)**2)\n",
        "            lls.append((indx,line_length))\n",
        "    lls.sort(key = lambda x: x[1])\n",
        "    linessorted = []\n",
        "    for (indx,ll) in lls:\n",
        "        linessorted.append(lines[indx])\n",
        "    return linessorted\n",
        "\n",
        "def find_line_angle(line):\n",
        "    x1,y1,x2,y2 = line[0]\n",
        "    angle = degrees(atan(((y2-y1)/(x2-x1))))\n",
        "    return angle\n",
        "\n",
        "def rotate_image(plate_img_gr, angle):\n",
        "    (h, w) = plate_img_gr.shape\n",
        "    (cX, cY) = (w // 2, h // 2)\n",
        "    M = cv.getRotationMatrix2D((cX, cY), angle, 1.0)\n",
        "    rotated = cv.warpAffine(plate_img_gr, M, (w, h))\n",
        "    return rotated\n",
        "\n",
        "def adjust_cropping(rotated_img):\n",
        "    h,w = rotated_img.shape\n",
        "    targ_h = int(w/4)\n",
        "    crop_h = int((h - targ_h)/2)\n",
        "    cropped_rotated_img = rotated_img[crop_h:h-crop_h,:]\n",
        "    return cropped_rotated_img\n",
        "# Draw the lines on the  image\n",
        "#lines_edges = cv.addWeighted(plate_img, 0.8, line_image, 1, 0)"
      ],
      "metadata": {
        "id": "6zgOALEandfg"
      },
      "execution_count": 6,
      "outputs": []
    },
    {
      "cell_type": "code",
      "source": [
        "linessorted = find_longest_line(save_img)\n",
        "rot_angle = find_line_angle(linessorted[-1])\n",
        "rotated_img = rotate_image(save_img, rot_angle)\n",
        "cropped_rotated_img = adjust_cropping(rotated_img)\n",
        "cw = cropped_rotated_img.shape[1]\n",
        "\n",
        "plt.imshow(cropped_rotated_img)"
      ],
      "metadata": {
        "id": "4PRk0WeyU-Tw"
      },
      "execution_count": null,
      "outputs": []
    },
    {
      "cell_type": "code",
      "source": [
        "h, w = cropped_rotated_img.shape\n",
        "chopfactors = [(40,120),(100,200),(180,280),(270,360),(350,400),(400,460),(460,530),(530,600)]"
      ],
      "metadata": {
        "id": "bmHx_L67VhiL"
      },
      "execution_count": 8,
      "outputs": []
    },
    {
      "cell_type": "code",
      "source": [
        "plate_letters= []\n",
        "for factor in chopfactors:\n",
        "    w1 = int((factor[0]/600)*w)\n",
        "    w2 = int((factor[1]/600)*w)\n",
        "    letterpatch = cropped_rotated_img[:,w1:w2]\n",
        "    #cv.imwrite(f\"{str(factor[0])}_{str(factor[1])}.png\", letterpatch)\n",
        "    letterpatch_resized = cv.resize(letterpatch, (28,28), interpolation= cv.INTER_LINEAR)\n",
        "    plate_letters.append(letterpatch_resized)\n",
        "\n",
        "plate_letters = np.array(plate_letters)\n",
        "plate_letters.shape"
      ],
      "metadata": {
        "id": "HiWRIatRVlwX",
        "colab": {
          "base_uri": "https://localhost:8080/"
        },
        "outputId": "b23d7e54-42d1-4716-f847-af71c1dbae70"
      },
      "execution_count": 9,
      "outputs": [
        {
          "output_type": "execute_result",
          "data": {
            "text/plain": [
              "(8, 28, 28)"
            ]
          },
          "metadata": {},
          "execution_count": 9
        }
      ]
    },
    {
      "cell_type": "code",
      "source": [
        "!pip install roboflow"
      ],
      "metadata": {
        "id": "EqhQ7XMpCisn"
      },
      "execution_count": null,
      "outputs": []
    },
    {
      "cell_type": "code",
      "source": [
        "%cd /content/drive/MyDrive/yolov7\n",
        "\n",
        "from roboflow import Roboflow\n",
        "rf = Roboflow(api_key='VdwBRxsJsFmCMW94xJjd')\n",
        "project = rf.workspace('object-detection-yolov5').project('plate_ocr_ir')\n",
        "dataset = project.version(2).download('folder')"
      ],
      "metadata": {
        "id": "uy4lBCt5V1MQ",
        "colab": {
          "base_uri": "https://localhost:8080/"
        },
        "outputId": "5339064f-9053-4eb7-f68f-4ac8b4a460a4"
      },
      "execution_count": 12,
      "outputs": [
        {
          "output_type": "stream",
          "name": "stdout",
          "text": [
            "/content/drive/MyDrive/yolov7\n",
            "loading Roboflow workspace...\n",
            "loading Roboflow project...\n",
            "Downloading Dataset Version Zip in plate_ocr_ir-2 to folder: 100% [11679295 / 11679295] bytes\n"
          ]
        },
        {
          "output_type": "stream",
          "name": "stderr",
          "text": [
            "Extracting Dataset Version Zip to plate_ocr_ir-2 in folder:: 100%|██████████| 9658/9658 [40:57<00:00,  3.93it/s]\n"
          ]
        }
      ]
    },
    {
      "cell_type": "code",
      "source": [
        "train_path = '/content/drive/MyDrive/yolov7/plate_ocr_ir-2/train'\n",
        "valid_path = '/content/drive/MyDrive/yolov7/plate_ocr_ir-2/valid'\n",
        "test_path = '/content/drive/MyDrive/yolov7/plate_ocr_ir-2/test'"
      ],
      "metadata": {
        "id": "X0asoWDtV29g"
      },
      "execution_count": 13,
      "outputs": []
    },
    {
      "cell_type": "code",
      "source": [
        "class_names = subdirs = ['0','1','2','3','4','5','6','7','8','9','a','b','ch','d','ein','f','g','ghaf','ghein','h2','hj','j','k','kh','l','m','n','p','r','s','sad','sh','t','ta','th','v','y','z','za','zad','zal','zh']\n",
        "num_classes = len(class_names)"
      ],
      "metadata": {
        "id": "Sk-cttnlWJF3"
      },
      "execution_count": 14,
      "outputs": []
    },
    {
      "cell_type": "code",
      "source": [
        "train_imgs = []\n",
        "train_labels = []\n",
        "for index, subdir in enumerate(subdirs):\n",
        "  imgfolder = os.path.join(train_path , subdir)\n",
        "  for imgname in os.listdir(imgfolder):\n",
        "    img = cv.imread(os.path.join(imgfolder , imgname), 0)\n",
        "    train_imgs.append(img)\n",
        "    train_labels.append(labels_nums[index])\n",
        "\n",
        "c = list(zip(train_imgs , train_labels))\n",
        "random.shuffle(c)\n",
        "train_imgs , train_labels = zip(*c)\n",
        "\n",
        "train_images = np.array(train_imgs)\n",
        "train_labels = np.array(train_labels)"
      ],
      "metadata": {
        "id": "qSTU2kFSWEkf"
      },
      "execution_count": 15,
      "outputs": []
    },
    {
      "cell_type": "code",
      "source": [
        "valid_imgs = []\n",
        "valid_labels = []\n",
        "for index, subdir in enumerate(subdirs):\n",
        "  imgfolder = os.path.join(valid_path , subdir)\n",
        "  if os.path.exists(imgfolder):\n",
        "    for imgname in os.listdir(imgfolder):\n",
        "      img = cv.imread(os.path.join(imgfolder , imgname), 0)\n",
        "      valid_imgs.append(img)\n",
        "      valid_labels.append(labels_nums[index])\n",
        "\n",
        "c = list(zip(valid_imgs , valid_labels))\n",
        "random.shuffle(c)\n",
        "valid_imgs , valid_labels = zip(*c)\n",
        "\n",
        "test_images = np.array(valid_imgs)\n",
        "test_labels = np.array(valid_labels)"
      ],
      "metadata": {
        "id": "ac56V-HbWJ4m"
      },
      "execution_count": 16,
      "outputs": []
    },
    {
      "cell_type": "code",
      "source": [
        "num = 90\n",
        "print(class_names[train_labels[num]])\n",
        "print(train_labels[num])\n",
        "plt.imshow(train_images[num])"
      ],
      "metadata": {
        "id": "LBJ9uk-uWNSH",
        "colab": {
          "base_uri": "https://localhost:8080/",
          "height": 317
        },
        "outputId": "d7ea4762-72d1-4998-b591-4dad4391d42a"
      },
      "execution_count": 17,
      "outputs": [
        {
          "output_type": "stream",
          "name": "stdout",
          "text": [
            "ghein\n",
            "18\n"
          ]
        },
        {
          "output_type": "execute_result",
          "data": {
            "text/plain": [
              "<matplotlib.image.AxesImage at 0x7fa7c3c45640>"
            ]
          },
          "metadata": {},
          "execution_count": 17
        },
        {
          "output_type": "display_data",
          "data": {
            "text/plain": [
              "<Figure size 432x288 with 1 Axes>"
            ],
            "image/png": "[encoded data removed]"
          },
          "metadata": {
            "needs_background": "light"
          }
        }
      ]
    },
    {
      "cell_type": "code",
      "source": [
        "test_labels.shape"
      ],
      "metadata": {
        "id": "S9835npyWN7-",
        "colab": {
          "base_uri": "https://localhost:8080/"
        },
        "outputId": "8e68b4e7-e62d-47e2-c058-c3dea9bec922"
      },
      "execution_count": 18,
      "outputs": [
        {
          "output_type": "execute_result",
          "data": {
            "text/plain": [
              "(792,)"
            ]
          },
          "metadata": {},
          "execution_count": 18
        }
      ]
    },
    {
      "cell_type": "code",
      "source": [
        "train_images = train_images / 255.0\n",
        "test_images = test_images / 255.0"
      ],
      "metadata": {
        "id": "fvAOA5xoWRW-"
      },
      "execution_count": 19,
      "outputs": []
    },
    {
      "cell_type": "code",
      "source": [
        "import keras\n",
        "modell = keras.Sequential([\n",
        "    keras.layers.Flatten(input_shape = (28 , 28)),\n",
        "    #keras.layers.Dense(256, activation = tf.nn.relu),\n",
        "    #keras.layers.Dense(128, activation = tf.nn.relu),\n",
        "    keras.layers.Dense(64, activation = tf.nn.relu),\n",
        "    \n",
        "    keras.layers.Dense(num_classes, activation = tf.nn.softmax)\n",
        "])"
      ],
      "metadata": {
        "id": "PXrzbM-8WSI3"
      },
      "execution_count": 33,
      "outputs": []
    },
    {
      "cell_type": "code",
      "source": [
        "modell.compile(optimizer='adam',\n",
        "              loss = 'sparse_categorical_crossentropy',\n",
        "              metrics=['accuracy'])"
      ],
      "metadata": {
        "id": "6hcDg4ODWT9m"
      },
      "execution_count": 34,
      "outputs": []
    },
    {
      "cell_type": "code",
      "source": [
        "modell.fit(train_images, train_labels, epochs=100)"
      ],
      "metadata": {
        "id": "nwc5HOYGWWZm",
        "colab": {
          "base_uri": "https://localhost:8080/"
        },
        "outputId": "071e856b-8e12-4d6c-c211-6f4772fad13f"
      },
      "execution_count": 35,
      "outputs": [
        {
          "output_type": "stream",
          "name": "stdout",
          "text": [
            "Epoch 1/100\n",
            "261/261 [==============================] - 1s 3ms/step - loss: 3.4156 - accuracy: 0.1198\n",
            "Epoch 2/100\n",
            "261/261 [==============================] - 1s 3ms/step - loss: 2.5798 - accuracy: 0.3085\n",
            "Epoch 3/100\n",
            "261/261 [==============================] - 1s 3ms/step - loss: 2.1517 - accuracy: 0.3992\n",
            "Epoch 4/100\n",
            "261/261 [==============================] - 1s 3ms/step - loss: 1.9286 - accuracy: 0.4499\n",
            "Epoch 5/100\n",
            "261/261 [==============================] - 1s 3ms/step - loss: 1.7921 - accuracy: 0.4867\n",
            "Epoch 6/100\n",
            "261/261 [==============================] - 1s 3ms/step - loss: 1.6960 - accuracy: 0.5177\n",
            "Epoch 7/100\n",
            "261/261 [==============================] - 1s 3ms/step - loss: 1.6194 - accuracy: 0.5296\n",
            "Epoch 8/100\n",
            "261/261 [==============================] - 1s 3ms/step - loss: 1.5496 - accuracy: 0.5548\n",
            "Epoch 9/100\n",
            "261/261 [==============================] - 1s 3ms/step - loss: 1.4985 - accuracy: 0.5699\n",
            "Epoch 10/100\n",
            "261/261 [==============================] - 1s 3ms/step - loss: 1.4393 - accuracy: 0.5886\n",
            "Epoch 11/100\n",
            "261/261 [==============================] - 1s 3ms/step - loss: 1.3989 - accuracy: 0.5991\n",
            "Epoch 12/100\n",
            "261/261 [==============================] - 1s 3ms/step - loss: 1.3553 - accuracy: 0.6091\n",
            "Epoch 13/100\n",
            "261/261 [==============================] - 1s 4ms/step - loss: 1.3210 - accuracy: 0.6216\n",
            "Epoch 14/100\n",
            "261/261 [==============================] - 1s 4ms/step - loss: 1.2817 - accuracy: 0.6309\n",
            "Epoch 15/100\n",
            "261/261 [==============================] - 1s 4ms/step - loss: 1.2422 - accuracy: 0.6438\n",
            "Epoch 16/100\n",
            "261/261 [==============================] - 1s 4ms/step - loss: 1.2136 - accuracy: 0.6512\n",
            "Epoch 17/100\n",
            "261/261 [==============================] - 1s 3ms/step - loss: 1.1809 - accuracy: 0.6566\n",
            "Epoch 18/100\n",
            "261/261 [==============================] - 1s 3ms/step - loss: 1.1467 - accuracy: 0.6659\n",
            "Epoch 19/100\n",
            "261/261 [==============================] - 1s 3ms/step - loss: 1.1169 - accuracy: 0.6770\n",
            "Epoch 20/100\n",
            "261/261 [==============================] - 1s 3ms/step - loss: 1.0855 - accuracy: 0.6854\n",
            "Epoch 21/100\n",
            "261/261 [==============================] - 1s 3ms/step - loss: 1.0570 - accuracy: 0.6878\n",
            "Epoch 22/100\n",
            "261/261 [==============================] - 1s 3ms/step - loss: 1.0309 - accuracy: 0.6981\n",
            "Epoch 23/100\n",
            "261/261 [==============================] - 1s 3ms/step - loss: 1.0051 - accuracy: 0.7054\n",
            "Epoch 24/100\n",
            "261/261 [==============================] - 1s 3ms/step - loss: 0.9756 - accuracy: 0.7143\n",
            "Epoch 25/100\n",
            "261/261 [==============================] - 1s 3ms/step - loss: 0.9543 - accuracy: 0.7217\n",
            "Epoch 26/100\n",
            "261/261 [==============================] - 1s 3ms/step - loss: 0.9271 - accuracy: 0.7289\n",
            "Epoch 27/100\n",
            "261/261 [==============================] - 1s 3ms/step - loss: 0.9099 - accuracy: 0.7358\n",
            "Epoch 28/100\n",
            "261/261 [==============================] - 1s 3ms/step - loss: 0.8855 - accuracy: 0.7437\n",
            "Epoch 29/100\n",
            "261/261 [==============================] - 1s 3ms/step - loss: 0.8667 - accuracy: 0.7449\n",
            "Epoch 30/100\n",
            "261/261 [==============================] - 1s 3ms/step - loss: 0.8443 - accuracy: 0.7527\n",
            "Epoch 31/100\n",
            "261/261 [==============================] - 1s 4ms/step - loss: 0.8285 - accuracy: 0.7595\n",
            "Epoch 32/100\n",
            "261/261 [==============================] - 1s 4ms/step - loss: 0.8126 - accuracy: 0.7595\n",
            "Epoch 33/100\n",
            "261/261 [==============================] - 1s 4ms/step - loss: 0.7834 - accuracy: 0.7713\n",
            "Epoch 34/100\n",
            "261/261 [==============================] - 1s 4ms/step - loss: 0.7723 - accuracy: 0.7695\n",
            "Epoch 35/100\n",
            "261/261 [==============================] - 1s 3ms/step - loss: 0.7516 - accuracy: 0.7807\n",
            "Epoch 36/100\n",
            "261/261 [==============================] - 1s 3ms/step - loss: 0.7290 - accuracy: 0.7840\n",
            "Epoch 37/100\n",
            "261/261 [==============================] - 1s 3ms/step - loss: 0.7234 - accuracy: 0.7849\n",
            "Epoch 38/100\n",
            "261/261 [==============================] - 1s 3ms/step - loss: 0.7070 - accuracy: 0.7921\n",
            "Epoch 39/100\n",
            "261/261 [==============================] - 1s 3ms/step - loss: 0.6916 - accuracy: 0.7958\n",
            "Epoch 40/100\n",
            "261/261 [==============================] - 1s 3ms/step - loss: 0.6824 - accuracy: 0.7926\n",
            "Epoch 41/100\n",
            "261/261 [==============================] - 1s 3ms/step - loss: 0.6691 - accuracy: 0.8028\n",
            "Epoch 42/100\n",
            "261/261 [==============================] - 1s 3ms/step - loss: 0.6423 - accuracy: 0.8131\n",
            "Epoch 43/100\n",
            "261/261 [==============================] - 1s 3ms/step - loss: 0.6317 - accuracy: 0.8154\n",
            "Epoch 44/100\n",
            "261/261 [==============================] - 1s 3ms/step - loss: 0.6225 - accuracy: 0.8176\n",
            "Epoch 45/100\n",
            "261/261 [==============================] - 1s 3ms/step - loss: 0.6174 - accuracy: 0.8159\n",
            "Epoch 46/100\n",
            "261/261 [==============================] - 1s 3ms/step - loss: 0.5987 - accuracy: 0.8261\n",
            "Epoch 47/100\n",
            "261/261 [==============================] - 1s 3ms/step - loss: 0.5879 - accuracy: 0.8239\n",
            "Epoch 48/100\n",
            "261/261 [==============================] - 1s 3ms/step - loss: 0.5726 - accuracy: 0.8353\n",
            "Epoch 49/100\n",
            "261/261 [==============================] - 1s 4ms/step - loss: 0.5650 - accuracy: 0.8394\n",
            "Epoch 50/100\n",
            "261/261 [==============================] - 1s 4ms/step - loss: 0.5530 - accuracy: 0.8409\n",
            "Epoch 51/100\n",
            "261/261 [==============================] - 1s 4ms/step - loss: 0.5410 - accuracy: 0.8463\n",
            "Epoch 52/100\n",
            "261/261 [==============================] - 1s 4ms/step - loss: 0.5309 - accuracy: 0.8461\n",
            "Epoch 53/100\n",
            "261/261 [==============================] - 1s 3ms/step - loss: 0.5186 - accuracy: 0.8491\n",
            "Epoch 54/100\n",
            "261/261 [==============================] - 1s 3ms/step - loss: 0.5095 - accuracy: 0.8527\n",
            "Epoch 55/100\n",
            "261/261 [==============================] - 1s 3ms/step - loss: 0.5000 - accuracy: 0.8541\n",
            "Epoch 56/100\n",
            "261/261 [==============================] - 1s 3ms/step - loss: 0.4948 - accuracy: 0.8545\n",
            "Epoch 57/100\n",
            "261/261 [==============================] - 1s 3ms/step - loss: 0.4912 - accuracy: 0.8568\n",
            "Epoch 58/100\n",
            "261/261 [==============================] - 1s 3ms/step - loss: 0.4804 - accuracy: 0.8577\n",
            "Epoch 59/100\n",
            "261/261 [==============================] - 1s 3ms/step - loss: 0.4604 - accuracy: 0.8658\n",
            "Epoch 60/100\n",
            "261/261 [==============================] - 1s 3ms/step - loss: 0.4616 - accuracy: 0.8666\n",
            "Epoch 61/100\n",
            "261/261 [==============================] - 1s 3ms/step - loss: 0.4549 - accuracy: 0.8677\n",
            "Epoch 62/100\n",
            "261/261 [==============================] - 1s 3ms/step - loss: 0.4401 - accuracy: 0.8733\n",
            "Epoch 63/100\n",
            "261/261 [==============================] - 1s 3ms/step - loss: 0.4246 - accuracy: 0.8801\n",
            "Epoch 64/100\n",
            "261/261 [==============================] - 1s 3ms/step - loss: 0.4268 - accuracy: 0.8790\n",
            "Epoch 65/100\n",
            "261/261 [==============================] - 1s 3ms/step - loss: 0.4204 - accuracy: 0.8778\n",
            "Epoch 66/100\n",
            "261/261 [==============================] - 1s 4ms/step - loss: 0.4122 - accuracy: 0.8809\n",
            "Epoch 67/100\n",
            "261/261 [==============================] - 1s 4ms/step - loss: 0.4076 - accuracy: 0.8843\n",
            "Epoch 68/100\n",
            "261/261 [==============================] - 1s 4ms/step - loss: 0.4025 - accuracy: 0.8890\n",
            "Epoch 69/100\n",
            "261/261 [==============================] - 1s 4ms/step - loss: 0.4028 - accuracy: 0.8809\n",
            "Epoch 70/100\n",
            "261/261 [==============================] - 1s 3ms/step - loss: 0.3820 - accuracy: 0.8911\n",
            "Epoch 71/100\n",
            "261/261 [==============================] - 1s 3ms/step - loss: 0.3771 - accuracy: 0.8941\n",
            "Epoch 72/100\n",
            "261/261 [==============================] - 1s 3ms/step - loss: 0.3682 - accuracy: 0.8962\n",
            "Epoch 73/100\n",
            "261/261 [==============================] - 1s 3ms/step - loss: 0.3656 - accuracy: 0.8914\n",
            "Epoch 74/100\n",
            "261/261 [==============================] - 1s 3ms/step - loss: 0.3556 - accuracy: 0.8997\n",
            "Epoch 75/100\n",
            "261/261 [==============================] - 1s 3ms/step - loss: 0.3535 - accuracy: 0.8990\n",
            "Epoch 76/100\n",
            "261/261 [==============================] - 1s 3ms/step - loss: 0.3473 - accuracy: 0.9001\n",
            "Epoch 77/100\n",
            "261/261 [==============================] - 1s 3ms/step - loss: 0.3412 - accuracy: 0.9055\n",
            "Epoch 78/100\n",
            "261/261 [==============================] - 1s 3ms/step - loss: 0.3332 - accuracy: 0.9097\n",
            "Epoch 79/100\n",
            "261/261 [==============================] - 1s 3ms/step - loss: 0.3328 - accuracy: 0.9070\n",
            "Epoch 80/100\n",
            "261/261 [==============================] - 1s 3ms/step - loss: 0.3196 - accuracy: 0.9150\n",
            "Epoch 81/100\n",
            "261/261 [==============================] - 1s 3ms/step - loss: 0.3214 - accuracy: 0.9080\n",
            "Epoch 82/100\n",
            "261/261 [==============================] - 1s 3ms/step - loss: 0.3178 - accuracy: 0.9092\n",
            "Epoch 83/100\n",
            "261/261 [==============================] - 1s 3ms/step - loss: 0.3079 - accuracy: 0.9172\n",
            "Epoch 84/100\n",
            "261/261 [==============================] - 1s 4ms/step - loss: 0.2998 - accuracy: 0.9181\n",
            "Epoch 85/100\n",
            "261/261 [==============================] - 1s 4ms/step - loss: 0.3035 - accuracy: 0.9146\n",
            "Epoch 86/100\n",
            "261/261 [==============================] - 1s 5ms/step - loss: 0.2957 - accuracy: 0.9175\n",
            "Epoch 87/100\n",
            "261/261 [==============================] - 1s 4ms/step - loss: 0.2868 - accuracy: 0.9212\n",
            "Epoch 88/100\n",
            "261/261 [==============================] - 1s 3ms/step - loss: 0.2821 - accuracy: 0.9225\n",
            "Epoch 89/100\n",
            "261/261 [==============================] - 1s 3ms/step - loss: 0.2775 - accuracy: 0.9240\n",
            "Epoch 90/100\n",
            "261/261 [==============================] - 1s 3ms/step - loss: 0.2811 - accuracy: 0.9224\n",
            "Epoch 91/100\n",
            "261/261 [==============================] - 1s 3ms/step - loss: 0.2673 - accuracy: 0.9241\n",
            "Epoch 92/100\n",
            "261/261 [==============================] - 1s 3ms/step - loss: 0.2724 - accuracy: 0.9267\n",
            "Epoch 93/100\n",
            "261/261 [==============================] - 1s 3ms/step - loss: 0.2537 - accuracy: 0.9334\n",
            "Epoch 94/100\n",
            "261/261 [==============================] - 1s 3ms/step - loss: 0.2525 - accuracy: 0.9323\n",
            "Epoch 95/100\n",
            "261/261 [==============================] - 1s 3ms/step - loss: 0.2509 - accuracy: 0.9349\n",
            "Epoch 96/100\n",
            "261/261 [==============================] - 1s 3ms/step - loss: 0.2533 - accuracy: 0.9303\n",
            "Epoch 97/100\n",
            "261/261 [==============================] - 1s 3ms/step - loss: 0.2533 - accuracy: 0.9312\n",
            "Epoch 98/100\n",
            "261/261 [==============================] - 1s 3ms/step - loss: 0.2428 - accuracy: 0.9349\n",
            "Epoch 99/100\n",
            "261/261 [==============================] - 1s 3ms/step - loss: 0.2430 - accuracy: 0.9322\n",
            "Epoch 100/100\n",
            "261/261 [==============================] - 1s 3ms/step - loss: 0.2352 - accuracy: 0.9352\n"
          ]
        },
        {
          "output_type": "execute_result",
          "data": {
            "text/plain": [
              "<keras.callbacks.History at 0x7fa7c020dd90>"
            ]
          },
          "metadata": {},
          "execution_count": 35
        }
      ]
    },
    {
      "cell_type": "code",
      "source": [
        "predictions = modell.predict(plate_letters)"
      ],
      "metadata": {
        "id": "a2_LH3c5WYOO",
        "colab": {
          "base_uri": "https://localhost:8080/"
        },
        "outputId": "71af2d89-6c11-471b-ac18-20356457c99c"
      },
      "execution_count": 36,
      "outputs": [
        {
          "output_type": "stream",
          "name": "stdout",
          "text": [
            "1/1 [==============================] - 0s 105ms/step\n"
          ]
        }
      ]
    },
    {
      "cell_type": "code",
      "source": [
        "[class_names[k] for k in list(np.argmax(predictions, axis=1))]"
      ],
      "metadata": {
        "id": "XG7a7FRNWijn",
        "colab": {
          "base_uri": "https://localhost:8080/"
        },
        "outputId": "8fc4153a-75ea-48e6-9994-5cd679f8d035"
      },
      "execution_count": 37,
      "outputs": [
        {
          "output_type": "execute_result",
          "data": {
            "text/plain": [
              "['th', '4', 'ch', '7', '4', '3', 'h2', 'ta']"
            ]
          },
          "metadata": {},
          "execution_count": 37
        }
      ]
    },
    {
      "cell_type": "code",
      "source": [
        "[labels_nums[k] for k in list(np.argmax(predictions, axis=1))]"
      ],
      "metadata": {
        "id": "3U84I429Wm4w",
        "colab": {
          "base_uri": "https://localhost:8080/"
        },
        "outputId": "372ad53b-7c5d-45a9-f218-aada4e8440b6"
      },
      "execution_count": 38,
      "outputs": [
        {
          "output_type": "execute_result",
          "data": {
            "text/plain": [
              "[34, 4, 12, 7, 4, 3, 19, 33]"
            ]
          },
          "metadata": {},
          "execution_count": 38
        }
      ]
    }
  ]
}